{
 "cells": [
  {
   "cell_type": "markdown",
   "metadata": {},
   "source": [
    "<center><h1>Khatri_Surbhi_HW7</h1></center>"
   ]
  },
  {
   "cell_type": "markdown",
   "metadata": {},
   "source": [
    "Name: Surbhi Khatri\n",
    "<br>\n",
    "Github Username: surbhikhatri\n",
    "<br>\n",
    "USC ID: 9893833133"
   ]
  },
  {
   "cell_type": "markdown",
   "metadata": {},
   "source": [
    "## 1. Multi-class and Multi-Label Classification Using Support Vector Machines"
   ]
  },
  {
   "cell_type": "markdown",
   "metadata": {},
   "source": [
    "Import packages"
   ]
  },
  {
   "cell_type": "code",
   "execution_count": 49,
   "metadata": {},
   "outputs": [],
   "source": [
    "import pandas as pd\n",
    "import numpy as np\n",
    "import matplotlib.pyplot as plt\n",
    "import seaborn as sns\n",
    "import xgboost as xgb\n",
    "from imblearn.over_sampling import SMOTE\n",
    "from imblearn.pipeline import Pipeline\n",
    "import math\n",
    "\n",
    "from sklearn.model_selection import KFold\n",
    "from sklearn.preprocessing import StandardScaler\n",
    "from sklearn.model_selection import GridSearchCV, train_test_split\n",
    "from sklearn import svm\n",
    "from sklearn.cluster import KMeans\n",
    "from sklearn.metrics import silhouette_score\n",
    "from sklearn.metrics import hamming_loss\n",
    "from sklearn.pipeline import make_pipeline\n",
    "from sklearn.svm import LinearSVC\n",
    "from sklearn.model_selection import cross_val_score\n",
    "\n",
    "import warnings\n",
    "warnings.filterwarnings(\"ignore\")"
   ]
  },
  {
   "cell_type": "markdown",
   "metadata": {},
   "source": [
    "### (a) Download the Anuran Calls (MFCCs) Data Set"
   ]
  },
  {
   "cell_type": "code",
   "execution_count": 50,
   "metadata": {},
   "outputs": [],
   "source": [
    "df = pd.read_csv(\"./../data/AnuranCalls/Frogs_MFCCs.csv\")\n",
    "# choose 70% randomly\n",
    "x_train, x_test, y_train, y_test = train_test_split(df[df.columns[:22]], df[[\"Family\",\"Genus\",\"Species\"]], test_size=0.3)"
   ]
  },
  {
   "cell_type": "markdown",
   "metadata": {},
   "source": [
    "### (b) Train a classifier for each label"
   ]
  },
  {
   "cell_type": "markdown",
   "metadata": {},
   "source": [
    "#### (i) Research"
   ]
  },
  {
   "cell_type": "markdown",
   "metadata": {},
   "source": [
    "Exact match is used to measure the accuracy of the classifier by calculating the % of records for which  the classifier predicts the label correctly. i.e. It measures the True Positives.\n",
    "\n",
    "Hamming loss uses the % of labels that are predicted incorrectly. It calculates the average calculating the fraction of incorrectly records, by summing up all the records where the label is incorrectly predicted and divide it by total records in the dataset.\n",
    "\n",
    "\n",
    "Difference btw exact match and Hamming loss is in how they judge the model's performance. Exact match only cares about cases where every single predicted label is right. On the other hand, Hamming loss looks at how many labels were predicted wrong on average for all instances. Hamming loss is a bit more forgiving because it considers cases where some labels were right even if not all of them were correct. So, it gives a more detailed picture of how well the classifier is doing."
   ]
  },
  {
   "cell_type": "markdown",
   "metadata": {},
   "source": [
    "#### (ii) Train a SVM for each of the labels"
   ]
  },
  {
   "cell_type": "code",
   "execution_count": 51,
   "metadata": {},
   "outputs": [],
   "source": [
    "gammas = [.01, 0.1, .5]\n",
    "c = [1e-4,1e-3, 1e-2, 1e-1, 1,1e1,1e2,1e3,1e4]\n",
    "# selecting gamma and c as taught in class\n",
    "\n",
    "params_ = {'svc__C': c, 'svc__gamma': gammas[:2]}\n",
    "svc = svm.SVC(kernel='rbf', max_iter=10000)\n",
    "\n",
    "svm_model = make_pipeline(StandardScaler(), svc)\n",
    "# use cv = 10 to tune hyperparameters\n",
    "grid_search = GridSearchCV(svm_model, params_, cv=10)\n"
   ]
  },
  {
   "cell_type": "code",
   "execution_count": 52,
   "metadata": {
    "collapsed": false
   },
   "outputs": [
    {
     "name": "stdout",
     "output_type": "stream",
     "text": [
      "Score for Family  0.9916628068550255\n"
     ]
    }
   ],
   "source": [
    "# for family\n",
    "grid_search.fit(x_train, y_train[\"Family\"])\n",
    "scv_family = grid_search.best_estimator_.fit(x_train, y_train[\"Family\"])\n",
    "print(\"Score for Family \", scv_family.score(x_test, y_test[\"Family\"]))"
   ]
  },
  {
   "cell_type": "code",
   "execution_count": 53,
   "metadata": {
    "collapsed": false
   },
   "outputs": [
    {
     "name": "stdout",
     "output_type": "stream",
     "text": [
      "best c and gama: 10.0 0.1\n"
     ]
    }
   ],
   "source": [
    "# predict alpha and gamma\n",
    "scv_family_pred = scv_family.predict(x_test)\n",
    "print(\"best c and gama:\", grid_search.best_params_[\"svc__C\"], grid_search.best_params_[\"svc__gamma\"])"
   ]
  },
  {
   "cell_type": "code",
   "execution_count": 54,
   "metadata": {
    "collapsed": false
   },
   "outputs": [
    {
     "name": "stdout",
     "output_type": "stream",
     "text": [
      "Score for Genus  0.9874942102825383\n"
     ]
    }
   ],
   "source": [
    "# for genus\n",
    "grid_search = GridSearchCV(svm_model, params_, cv=10)\n",
    "grid_search.fit(x_train, y_train[\"Genus\"])\n",
    "scv_genus = grid_search.best_estimator_.fit(x_train, y_train[\"Genus\"])\n",
    "print(\"Score for Genus \", scv_genus.score(x_test, y_test[\"Genus\"]))\n",
    "scv_genus_pred = scv_genus.predict(x_test)"
   ]
  },
  {
   "cell_type": "code",
   "execution_count": 55,
   "metadata": {
    "collapsed": false
   },
   "outputs": [
    {
     "name": "stdout",
     "output_type": "stream",
     "text": [
      "Score for Species  0.9902732746641963\n"
     ]
    }
   ],
   "source": [
    "grid_search  = GridSearchCV(svm_model, params_, cv=10, n_jobs=-1)\n",
    "grid_search.fit(x_train, y_train[\"Species\"])\n",
    "scv_species = grid_search.best_estimator_.fit(x_train, y_train[\"Species\"])\n",
    "print(\"Score for Species \", scv_species.score(x_test, y_test[\"Species\"]))\n",
    "scv_species_pred = scv_species.predict(x_test)"
   ]
  },
  {
   "cell_type": "code",
   "execution_count": 56,
   "metadata": {
    "collapsed": false
   },
   "outputs": [
    {
     "name": "stdout",
     "output_type": "stream",
     "text": [
      "Family Hamming loss  0.008337193144974525\n",
      "Genus Hamming loss  0.012505789717461788\n",
      "Species Hamming loss  0.009726725335803613\n",
      "average hamming loss = (sum of all)/n =  0.010189902732746642\n",
      "Exact match  0.9898100972672533\n"
     ]
    }
   ],
   "source": [
    "# b (i) use hamming loss,,\n",
    "hl_1 = hamming_loss(y_test[\"Family\"], scv_family_pred)\n",
    "hl_2 = hamming_loss(y_test[\"Genus\"], scv_genus_pred)\n",
    "hl_3 = hamming_loss(y_test[\"Species\"], scv_species_pred)\n",
    "\n",
    "\n",
    "print(\"Family Hamming loss \",  hl_1)\n",
    "print(\"Genus Hamming loss \", hl_2)\n",
    "print(\"Species Hamming loss \", hl_3)\n",
    "\n",
    "print(\"average hamming loss = (sum of all)/n = \", (hl_1 + hl_2 + hl_3)/3)\n",
    "\n",
    "predicted_df = pd.DataFrame({\"Family\": scv_family_pred, \"Genus\": scv_genus_pred, \"Species\": scv_species_pred})\n",
    "print(\"Exact match \", (y_test.values==predicted_df.values).sum()/(len(y_test)*3))"
   ]
  },
  {
   "attachments": {},
   "cell_type": "markdown",
   "metadata": {},
   "source": [
    "#### (iii) Repeat 1(b)ii with L1-penalized SVMs"
   ]
  },
  {
   "cell_type": "code",
   "execution_count": 57,
   "metadata": {},
   "outputs": [],
   "source": [
    "# Repeat 1(b)ii with L1-penalized SVMs.3 Remember to standardize4the at-tributes. Determine the weight of the SVM penalty using 10 fold cross vali-dation.\n",
    "\n",
    "params_ = {'linearsvc__C': [1e-4, 1e-3, 1e-2, 1e-1, 1, 1e1, 1e2, 1e3, 1e4]}\n",
    "cv = KFold(n_splits=10, shuffle=True)\n",
    "model = make_pipeline(StandardScaler(), LinearSVC(penalty='l1', dual=False, max_iter=10000))"
   ]
  },
  {
   "cell_type": "code",
   "execution_count": 58,
   "metadata": {
    "collapsed": false
   },
   "outputs": [
    {
     "name": "stdout",
     "output_type": "stream",
     "text": [
      "Score for Family  0.9351551644279759\n"
     ]
    }
   ],
   "source": [
    "# for family\n",
    "grid_search = GridSearchCV(model, param_grid=params_, cv=cv, scoring='accuracy')\n",
    "grid_search.fit(x_train, y_train[\"Family\"])\n",
    "family_l1 = grid_search.best_estimator_.fit(x_train, y_train[\"Family\"])\n",
    "print(\"Score for Family \", family_l1.score(x_test, y_test[\"Family\"]))"
   ]
  },
  {
   "cell_type": "code",
   "execution_count": 59,
   "metadata": {
    "collapsed": false
   },
   "outputs": [
    {
     "name": "stdout",
     "output_type": "stream",
     "text": [
      "Score for Genus  0.9495136637332098\n"
     ]
    }
   ],
   "source": [
    "# for enus\n",
    "grid_search = GridSearchCV(model, param_grid=params_, cv=cv, scoring='accuracy')\n",
    "grid_search.fit(x_train, y_train[\"Genus\"])\n",
    "genus_l1 = grid_search.best_estimator_.fit(x_train, y_train[\"Genus\"])\n",
    "print(\"Score for Genus \", genus_l1.score(x_test, y_test[\"Genus\"]))"
   ]
  },
  {
   "cell_type": "code",
   "execution_count": 60,
   "metadata": {
    "collapsed": false
   },
   "outputs": [
    {
     "name": "stdout",
     "output_type": "stream",
     "text": [
      "Score for Species  0.9573876794812413\n"
     ]
    }
   ],
   "source": [
    "# for Species\n",
    "grid_search = GridSearchCV(model, param_grid=params_, cv=cv, scoring='accuracy')\n",
    "grid_search.fit(x_train, y_train[\"Species\"])\n",
    "species_l1 = grid_search.best_estimator_.fit(x_train, y_train[\"Species\"])\n",
    "print(\"Score for Species \", species_l1.score(x_test, y_test[\"Species\"]))"
   ]
  },
  {
   "cell_type": "code",
   "execution_count": 61,
   "metadata": {
    "collapsed": false
   },
   "outputs": [
    {
     "name": "stdout",
     "output_type": "stream",
     "text": [
      "Family Hamming loss  0.06484483557202408\n",
      "Genus Hamming loss  0.05048633626679018\n",
      "Species Hamming loss  0.042612320518758684\n",
      "average hamming loss = (sum of all)/n =  0.05264783078585764\n",
      "Exact match  0.9473521692141423\n"
     ]
    }
   ],
   "source": [
    "family_l1_pred = family_l1.predict(x_test)\n",
    "genus_l1_pred = genus_l1.predict(x_test)\n",
    "species_l1_pred = species_l1.predict(x_test)\n",
    "\n",
    "# b (i) use hamming loss,,\n",
    "hl_1 = hamming_loss(y_test[\"Family\"], family_l1_pred)\n",
    "hl_2 = hamming_loss(y_test[\"Genus\"], genus_l1_pred)\n",
    "hl_3 = hamming_loss(y_test[\"Species\"], species_l1_pred)\n",
    "\n",
    "\n",
    "print(\"Family Hamming loss \",  hl_1)\n",
    "print(\"Genus Hamming loss \", hl_2)\n",
    "print(\"Species Hamming loss \", hl_3)\n",
    "\n",
    "print(\"average hamming loss = (sum of all)/n = \", (hl_1 + hl_2 + hl_3)/3)\n",
    "\n",
    "predicted_df = pd.DataFrame({\"Family\": family_l1_pred, \"Genus\": genus_l1_pred, \"Species\": species_l1_pred})\n",
    "print(\"Exact match \", (y_test.values==predicted_df.values).sum()/(len(y_test)*3))\n"
   ]
  },
  {
   "attachments": {},
   "cell_type": "markdown",
   "metadata": {},
   "source": [
    "#### (iv) Repeat 1(b)iii by using SMOTE or any other method for imbalance"
   ]
  },
  {
   "cell_type": "code",
   "execution_count": 62,
   "metadata": {},
   "outputs": [],
   "source": [
    "# initialize smote\n",
    "params_ = {'linearsvc__C': c}\n",
    "smote = SMOTE()\n",
    "pipeline = Pipeline([\n",
    "    ('standardise', StandardScaler()),\n",
    "    ('smote', SMOTE(random_state=42)),\n",
    "    ('linearsvc', LinearSVC(penalty='l1', dual=False, max_iter=10000))\n",
    "])\n"
   ]
  },
  {
   "cell_type": "code",
   "execution_count": 63,
   "metadata": {
    "collapsed": false
   },
   "outputs": [
    {
     "name": "stdout",
     "output_type": "stream",
     "text": [
      "Score for Family  0.9087540528022232\n"
     ]
    }
   ],
   "source": [
    "cv = KFold(n_splits=10, shuffle=True)\n",
    "grid_search = GridSearchCV(pipeline, param_grid=params_, cv=cv, scoring='accuracy')\n",
    "grid_search.fit(x_train, y_train[\"Family\"])\n",
    "family_smote = grid_search.best_estimator_.fit(x_train, y_train[\"Family\"])\n",
    "print(\"Score for Family \", family_smote.score(x_test, y_test[\"Family\"]))"
   ]
  },
  {
   "cell_type": "code",
   "execution_count": 64,
   "metadata": {
    "collapsed": false
   },
   "outputs": [
    {
     "name": "stdout",
     "output_type": "stream",
     "text": [
      "Score for Genus  0.9022695692450209\n"
     ]
    }
   ],
   "source": [
    "grid_search = GridSearchCV(pipeline, param_grid=params_, cv=cv, scoring='accuracy')\n",
    "grid_search.fit(x_train, y_train[\"Genus\"])\n",
    "genus_smote = grid_search.best_estimator_.fit(x_train, y_train[\"Genus\"])\n",
    "print(\"Score for Genus \", genus_smote.score(x_test, y_test[\"Genus\"]))"
   ]
  },
  {
   "cell_type": "code",
   "execution_count": 66,
   "metadata": {
    "collapsed": false
   },
   "outputs": [
    {
     "name": "stdout",
     "output_type": "stream",
     "text": [
      "Score for Species  0.9550717924965262\n"
     ]
    }
   ],
   "source": [
    "grid_search = GridSearchCV(pipeline, param_grid=params_, cv=cv, scoring='accuracy')\n",
    "grid_search.fit(x_train, y_train[\"Species\"])\n",
    "species_smote = grid_search.best_estimator_.fit(x_train, y_train[\"Species\"])\n",
    "print(\"Score for Species \", species_smote.score(x_test, y_test[\"Species\"]))"
   ]
  },
  {
   "cell_type": "code",
   "execution_count": 67,
   "metadata": {
    "collapsed": false
   },
   "outputs": [
    {
     "name": "stdout",
     "output_type": "stream",
     "text": [
      "Family Hamming loss  0.09124594719777675\n",
      "Genus Hamming loss  0.09773043075497916\n",
      "Species Hamming loss  0.04492820750347383\n",
      "average hamming loss = (sum of all)/n =  0.07796819515207658\n",
      "Exact match  0.9220318048479235\n"
     ]
    }
   ],
   "source": [
    "family_smote_pred = family_smote.predict(x_test)\n",
    "genus_smote_pred = genus_smote.predict(x_test)\n",
    "species_smote_pred = species_smote.predict(x_test)\n",
    "\n",
    "# b (i) use hamming loss,,\n",
    "hl_1 = hamming_loss(y_test[\"Family\"], family_smote_pred)\n",
    "hl_2 = hamming_loss(y_test[\"Genus\"], genus_smote_pred)\n",
    "hl_3 = hamming_loss(y_test[\"Species\"], species_smote_pred)\n",
    "\n",
    "\n",
    "print(\"Family Hamming loss \",  hl_1)\n",
    "print(\"Genus Hamming loss \", hl_2)\n",
    "print(\"Species Hamming loss \", hl_3)\n",
    "\n",
    "print(\"average hamming loss = (sum of all)/n = \", (hl_1 + hl_2 + hl_3)/3)\n",
    "\n",
    "predicted_df = pd.DataFrame({\"Family\": family_smote_pred, \"Genus\": genus_smote_pred, \"Species\": species_smote_pred})\n",
    "print(\"Exact match \", (y_test.values==predicted_df.values).sum()/(len(y_test)*3))\n"
   ]
  },
  {
   "cell_type": "markdown",
   "metadata": {
    "collapsed": false
   },
   "source": [
    "Summary:\n",
    "\n",
    "* For this problem, Gaussian classifier gives the best result\n",
    "* SMOTE does not perform significantly better than others classifiers, errors are comparable and takes a lot tof time in training\n",
    "* LinearSVC with L1 is faster to train\n"
   ]
  },
  {
   "cell_type": "markdown",
   "metadata": {},
   "source": [
    "## 2. K-Means Clustering on a Multi-Class and Multi-Label Data Set\n",
    "\n",
    "K-Means Clustering on a Multi-Class and Multi-Label Data Set\n",
    "Monte-Carlo Simulation: Perform the following procedures 50 times, and report\n",
    "the average and standard deviation of the 50 Hamming Distances that you calculate"
   ]
  },
  {
   "cell_type": "markdown",
   "metadata": {},
   "source": [
    "### (a) Use k-means clustering"
   ]
  },
  {
   "cell_type": "code",
   "execution_count": 40,
   "metadata": {},
   "outputs": [
    {
     "name": "stdout",
     "output_type": "stream",
     "text": [
      "Best k for iteration  0 :  4\n",
      "Best k for iteration  1 :  4\n",
      "Best k for iteration  2 :  4\n",
      "Best k for iteration  3 :  4\n",
      "Best k for iteration  4 :  4\n",
      "Best k for iteration  5 :  4\n",
      "Best k for iteration  6 :  4\n",
      "Best k for iteration  7 :  4\n",
      "Best k for iteration  8 :  4\n",
      "Best k for iteration  9 :  4\n",
      "Best k for iteration  10 :  4\n",
      "Best k for iteration  11 :  4\n",
      "Best k for iteration  12 :  4\n",
      "Best k for iteration  13 :  4\n",
      "Best k for iteration  14 :  4\n",
      "Best k for iteration  15 :  4\n",
      "Best k for iteration  16 :  4\n",
      "Best k for iteration  17 :  4\n",
      "Best k for iteration  18 :  4\n",
      "Best k for iteration  19 :  4\n",
      "Best k for iteration  20 :  4\n",
      "Best k for iteration  21 :  4\n",
      "Best k for iteration  22 :  4\n",
      "Best k for iteration  23 :  4\n",
      "Best k for iteration  24 :  4\n",
      "Best k for iteration  25 :  4\n",
      "Best k for iteration  26 :  4\n",
      "Best k for iteration  27 :  4\n",
      "Best k for iteration  28 :  4\n",
      "Best k for iteration  29 :  4\n",
      "Best k for iteration  30 :  4\n",
      "Best k for iteration  31 :  4\n",
      "Best k for iteration  32 :  4\n",
      "Best k for iteration  33 :  4\n",
      "Best k for iteration  34 :  4\n",
      "Best k for iteration  35 :  4\n",
      "Best k for iteration  36 :  4\n",
      "Best k for iteration  37 :  4\n",
      "Best k for iteration  38 :  4\n",
      "Best k for iteration  39 :  4\n",
      "Best k for iteration  40 :  4\n",
      "Best k for iteration  41 :  4\n",
      "Best k for iteration  42 :  4\n",
      "Best k for iteration  43 :  4\n",
      "Best k for iteration  44 :  4\n",
      "Best k for iteration  45 :  4\n",
      "Best k for iteration  46 :  4\n",
      "Best k for iteration  47 :  6\n",
      "Best k for iteration  48 :  4\n",
      "Best k for iteration  49 :  4\n"
     ]
    }
   ],
   "source": [
    "# using Silhouettes for calculating best k and then apply monte carlo simulation\n",
    "\n",
    "k_arr = []\n",
    "kmeans_arr = []\n",
    "monte_carlo_arr = []\n",
    "\n",
    "# apply monte-carlo simulation 50 times\n",
    "for i in range(50):\n",
    "    # exclude the decision columns\n",
    "    x = df[df.columns[:22]]\n",
    "    silhouette_arr = []\n",
    "    max_sil = 0\n",
    "    best_k = -1\n",
    "    best_kmeans = -1\n",
    "    for k in range(2, 51):\n",
    "        kmeans = KMeans(n_clusters=k, init='random').fit(x)\n",
    "        cur_sil = silhouette_score(x, kmeans.labels_)\n",
    "        if cur_sil > max_sil:\n",
    "            max_sil = cur_sil\n",
    "            best_k = k\n",
    "            best_kmeans = kmeans\n",
    "\n",
    "    monte_carlo_arr.append(best_kmeans)\n",
    "    k_arr.append(best_k)\n",
    "    print(\"Best k for iteration \", i, \": \", best_k)\n"
   ]
  },
  {
   "cell_type": "markdown",
   "metadata": {},
   "source": [
    "### (b) Determine which family is the majority"
   ]
  },
  {
   "cell_type": "code",
   "execution_count": 104,
   "metadata": {},
   "outputs": [
    {
     "name": "stdout",
     "output_type": "stream",
     "text": [
      "itr 0\n",
      "cluster 0 Family Majority: Leptodactylidae Genus Majority: Hypsiboas Species Majority: HylaMinuta\n",
      "cluster 1 Family Majority: Hylidae Genus Majority: Dendropsophus Species Majority: Ameeregatrivittata\n",
      "cluster 2 Family Majority: Dendrobatidae Genus Majority: Ameerega Species Majority: AdenomeraHylaedactylus\n",
      "cluster 3 Family Majority: Hylidae Genus Majority: Dendropsophus Species Majority: Ameeregatrivittata\n",
      "itr 1\n",
      "cluster 0 Family Majority: Hylidae Genus Majority: Dendropsophus Species Majority: Ameeregatrivittata\n",
      "cluster 1 Family Majority: Leptodactylidae Genus Majority: Hypsiboas Species Majority: HylaMinuta\n",
      "cluster 2 Family Majority: Hylidae Genus Majority: Dendropsophus Species Majority: Ameeregatrivittata\n",
      "cluster 3 Family Majority: Dendrobatidae Genus Majority: Ameerega Species Majority: AdenomeraHylaedactylus\n",
      "itr 2\n",
      "cluster 0 Family Majority: Dendrobatidae Genus Majority: Ameerega Species Majority: AdenomeraHylaedactylus\n",
      "cluster 1 Family Majority: Hylidae Genus Majority: Dendropsophus Species Majority: Ameeregatrivittata\n",
      "cluster 2 Family Majority: Hylidae Genus Majority: Dendropsophus Species Majority: Ameeregatrivittata\n",
      "cluster 3 Family Majority: Leptodactylidae Genus Majority: Hypsiboas Species Majority: HylaMinuta\n",
      "itr 3\n",
      "cluster 0 Family Majority: Hylidae Genus Majority: Dendropsophus Species Majority: Ameeregatrivittata\n",
      "cluster 1 Family Majority: Dendrobatidae Genus Majority: Ameerega Species Majority: AdenomeraHylaedactylus\n",
      "cluster 2 Family Majority: Hylidae Genus Majority: Dendropsophus Species Majority: Ameeregatrivittata\n",
      "cluster 3 Family Majority: Leptodactylidae Genus Majority: Hypsiboas Species Majority: HylaMinuta\n",
      "itr 4\n",
      "cluster 0 Family Majority: Leptodactylidae Genus Majority: Hypsiboas Species Majority: HylaMinuta\n",
      "cluster 1 Family Majority: Hylidae Genus Majority: Dendropsophus Species Majority: Ameeregatrivittata\n",
      "cluster 2 Family Majority: Hylidae Genus Majority: Dendropsophus Species Majority: Ameeregatrivittata\n",
      "cluster 3 Family Majority: Dendrobatidae Genus Majority: Ameerega Species Majority: AdenomeraHylaedactylus\n",
      "itr 5\n",
      "cluster 0 Family Majority: Leptodactylidae Genus Majority: Hypsiboas Species Majority: HylaMinuta\n",
      "cluster 1 Family Majority: Hylidae Genus Majority: Dendropsophus Species Majority: Ameeregatrivittata\n",
      "cluster 2 Family Majority: Dendrobatidae Genus Majority: Ameerega Species Majority: AdenomeraHylaedactylus\n",
      "cluster 3 Family Majority: Hylidae Genus Majority: Dendropsophus Species Majority: Ameeregatrivittata\n",
      "itr 6\n",
      "cluster 0 Family Majority: Dendrobatidae Genus Majority: Ameerega Species Majority: AdenomeraHylaedactylus\n",
      "cluster 1 Family Majority: Leptodactylidae Genus Majority: Hypsiboas Species Majority: HylaMinuta\n",
      "cluster 2 Family Majority: Hylidae Genus Majority: Dendropsophus Species Majority: Ameeregatrivittata\n",
      "cluster 3 Family Majority: Hylidae Genus Majority: Dendropsophus Species Majority: Ameeregatrivittata\n",
      "itr 7\n",
      "cluster 0 Family Majority: Hylidae Genus Majority: Dendropsophus Species Majority: Ameeregatrivittata\n",
      "cluster 1 Family Majority: Leptodactylidae Genus Majority: Hypsiboas Species Majority: HylaMinuta\n",
      "cluster 2 Family Majority: Dendrobatidae Genus Majority: Ameerega Species Majority: AdenomeraHylaedactylus\n",
      "cluster 3 Family Majority: Hylidae Genus Majority: Dendropsophus Species Majority: Ameeregatrivittata\n",
      "itr 8\n",
      "cluster 0 Family Majority: Dendrobatidae Genus Majority: Ameerega Species Majority: AdenomeraHylaedactylus\n",
      "cluster 1 Family Majority: Hylidae Genus Majority: Dendropsophus Species Majority: Ameeregatrivittata\n",
      "cluster 2 Family Majority: Hylidae Genus Majority: Dendropsophus Species Majority: Ameeregatrivittata\n",
      "cluster 3 Family Majority: Leptodactylidae Genus Majority: Hypsiboas Species Majority: HylaMinuta\n",
      "itr 9\n",
      "cluster 0 Family Majority: Hylidae Genus Majority: Dendropsophus Species Majority: Ameeregatrivittata\n",
      "cluster 1 Family Majority: Hylidae Genus Majority: Dendropsophus Species Majority: Ameeregatrivittata\n",
      "cluster 2 Family Majority: Leptodactylidae Genus Majority: Hypsiboas Species Majority: HylaMinuta\n",
      "cluster 3 Family Majority: Leptodactylidae Genus Majority: Hypsiboas Species Majority: HylaMinuta\n",
      "itr 10\n",
      "cluster 0 Family Majority: Leptodactylidae Genus Majority: Hypsiboas Species Majority: HylaMinuta\n",
      "cluster 1 Family Majority: Hylidae Genus Majority: Dendropsophus Species Majority: Ameeregatrivittata\n",
      "cluster 2 Family Majority: Hylidae Genus Majority: Dendropsophus Species Majority: Ameeregatrivittata\n",
      "cluster 3 Family Majority: Leptodactylidae Genus Majority: Hypsiboas Species Majority: HylaMinuta\n",
      "itr 11\n",
      "cluster 0 Family Majority: Hylidae Genus Majority: Dendropsophus Species Majority: Ameeregatrivittata\n",
      "cluster 1 Family Majority: Leptodactylidae Genus Majority: Hypsiboas Species Majority: HylaMinuta\n",
      "cluster 2 Family Majority: Hylidae Genus Majority: Dendropsophus Species Majority: Ameeregatrivittata\n",
      "cluster 3 Family Majority: Dendrobatidae Genus Majority: Ameerega Species Majority: AdenomeraHylaedactylus\n",
      "itr 12\n",
      "cluster 0 Family Majority: Leptodactylidae Genus Majority: Hypsiboas Species Majority: HylaMinuta\n",
      "cluster 1 Family Majority: Hylidae Genus Majority: Dendropsophus Species Majority: Ameeregatrivittata\n",
      "cluster 2 Family Majority: Hylidae Genus Majority: Dendropsophus Species Majority: Ameeregatrivittata\n",
      "cluster 3 Family Majority: Hylidae Genus Majority: Dendropsophus Species Majority: Ameeregatrivittata\n",
      "itr 13\n",
      "cluster 0 Family Majority: Dendrobatidae Genus Majority: Ameerega Species Majority: AdenomeraHylaedactylus\n",
      "cluster 1 Family Majority: Leptodactylidae Genus Majority: Hypsiboas Species Majority: HylaMinuta\n",
      "cluster 2 Family Majority: Hylidae Genus Majority: Dendropsophus Species Majority: Ameeregatrivittata\n",
      "cluster 3 Family Majority: Hylidae Genus Majority: Dendropsophus Species Majority: Ameeregatrivittata\n",
      "itr 14\n",
      "cluster 0 Family Majority: Hylidae Genus Majority: Dendropsophus Species Majority: Ameeregatrivittata\n",
      "cluster 1 Family Majority: Dendrobatidae Genus Majority: Ameerega Species Majority: AdenomeraHylaedactylus\n",
      "cluster 2 Family Majority: Leptodactylidae Genus Majority: Hypsiboas Species Majority: HylaMinuta\n",
      "cluster 3 Family Majority: Hylidae Genus Majority: Dendropsophus Species Majority: Ameeregatrivittata\n",
      "itr 15\n",
      "cluster 0 Family Majority: Hylidae Genus Majority: Dendropsophus Species Majority: Ameeregatrivittata\n",
      "cluster 1 Family Majority: Hylidae Genus Majority: Dendropsophus Species Majority: Ameeregatrivittata\n",
      "cluster 2 Family Majority: Leptodactylidae Genus Majority: Hypsiboas Species Majority: HylaMinuta\n",
      "cluster 3 Family Majority: Dendrobatidae Genus Majority: Ameerega Species Majority: AdenomeraHylaedactylus\n",
      "itr 16\n",
      "cluster 0 Family Majority: Hylidae Genus Majority: Dendropsophus Species Majority: Ameeregatrivittata\n",
      "cluster 1 Family Majority: Dendrobatidae Genus Majority: Ameerega Species Majority: AdenomeraHylaedactylus\n",
      "cluster 2 Family Majority: Hylidae Genus Majority: Dendropsophus Species Majority: Ameeregatrivittata\n",
      "cluster 3 Family Majority: Leptodactylidae Genus Majority: Hypsiboas Species Majority: HylaMinuta\n",
      "itr 17\n",
      "cluster 0 Family Majority: Dendrobatidae Genus Majority: Ameerega Species Majority: AdenomeraHylaedactylus\n",
      "cluster 1 Family Majority: Hylidae Genus Majority: Dendropsophus Species Majority: Ameeregatrivittata\n",
      "cluster 2 Family Majority: Hylidae Genus Majority: Dendropsophus Species Majority: Ameeregatrivittata\n",
      "cluster 3 Family Majority: Leptodactylidae Genus Majority: Hypsiboas Species Majority: HylaMinuta\n",
      "itr 18\n",
      "cluster 0 Family Majority: Hylidae Genus Majority: Dendropsophus Species Majority: Ameeregatrivittata\n",
      "cluster 1 Family Majority: Hylidae Genus Majority: Dendropsophus Species Majority: Ameeregatrivittata\n",
      "cluster 2 Family Majority: Leptodactylidae Genus Majority: Hypsiboas Species Majority: HylaMinuta\n",
      "cluster 3 Family Majority: Leptodactylidae Genus Majority: Hypsiboas Species Majority: HylaMinuta\n",
      "itr 19\n",
      "cluster 0 Family Majority: Hylidae Genus Majority: Dendropsophus Species Majority: Ameeregatrivittata\n",
      "cluster 1 Family Majority: Leptodactylidae Genus Majority: Hypsiboas Species Majority: HylaMinuta\n",
      "cluster 2 Family Majority: Dendrobatidae Genus Majority: Ameerega Species Majority: AdenomeraHylaedactylus\n",
      "cluster 3 Family Majority: Hylidae Genus Majority: Dendropsophus Species Majority: Ameeregatrivittata\n",
      "itr 20\n",
      "cluster 0 Family Majority: Leptodactylidae Genus Majority: Hypsiboas Species Majority: HylaMinuta\n",
      "cluster 1 Family Majority: Hylidae Genus Majority: Dendropsophus Species Majority: Ameeregatrivittata\n",
      "cluster 2 Family Majority: Dendrobatidae Genus Majority: Ameerega Species Majority: AdenomeraHylaedactylus\n",
      "cluster 3 Family Majority: Hylidae Genus Majority: Dendropsophus Species Majority: Ameeregatrivittata\n",
      "itr 21\n",
      "cluster 0 Family Majority: Dendrobatidae Genus Majority: Ameerega Species Majority: AdenomeraHylaedactylus\n",
      "cluster 1 Family Majority: Hylidae Genus Majority: Dendropsophus Species Majority: Ameeregatrivittata\n",
      "cluster 2 Family Majority: Leptodactylidae Genus Majority: Hypsiboas Species Majority: HylaMinuta\n",
      "cluster 3 Family Majority: Hylidae Genus Majority: Dendropsophus Species Majority: Ameeregatrivittata\n",
      "itr 22\n",
      "cluster 0 Family Majority: Hylidae Genus Majority: Dendropsophus Species Majority: Ameeregatrivittata\n",
      "cluster 1 Family Majority: Hylidae Genus Majority: Dendropsophus Species Majority: Ameeregatrivittata\n",
      "cluster 2 Family Majority: Leptodactylidae Genus Majority: Hypsiboas Species Majority: HylaMinuta\n",
      "cluster 3 Family Majority: Dendrobatidae Genus Majority: Ameerega Species Majority: AdenomeraHylaedactylus\n",
      "itr 23\n",
      "cluster 0 Family Majority: Leptodactylidae Genus Majority: Hypsiboas Species Majority: HylaMinuta\n",
      "cluster 1 Family Majority: Hylidae Genus Majority: Dendropsophus Species Majority: Ameeregatrivittata\n",
      "cluster 2 Family Majority: Hylidae Genus Majority: Dendropsophus Species Majority: Ameeregatrivittata\n",
      "cluster 3 Family Majority: Dendrobatidae Genus Majority: Ameerega Species Majority: AdenomeraHylaedactylus\n",
      "itr 24\n",
      "cluster 0 Family Majority: Hylidae Genus Majority: Dendropsophus Species Majority: Ameeregatrivittata\n",
      "cluster 1 Family Majority: Hylidae Genus Majority: Dendropsophus Species Majority: Ameeregatrivittata\n",
      "cluster 2 Family Majority: Leptodactylidae Genus Majority: Hypsiboas Species Majority: HylaMinuta\n",
      "cluster 3 Family Majority: Dendrobatidae Genus Majority: Ameerega Species Majority: AdenomeraHylaedactylus\n",
      "itr 25\n",
      "cluster 0 Family Majority: Leptodactylidae Genus Majority: Hypsiboas Species Majority: HylaMinuta\n",
      "cluster 1 Family Majority: Hylidae Genus Majority: Dendropsophus Species Majority: Ameeregatrivittata\n",
      "cluster 2 Family Majority: Leptodactylidae Genus Majority: Hypsiboas Species Majority: HylaMinuta\n",
      "cluster 3 Family Majority: Hylidae Genus Majority: Dendropsophus Species Majority: Ameeregatrivittata\n",
      "itr 26\n",
      "cluster 0 Family Majority: Dendrobatidae Genus Majority: Ameerega Species Majority: AdenomeraHylaedactylus\n",
      "cluster 1 Family Majority: Hylidae Genus Majority: Dendropsophus Species Majority: Ameeregatrivittata\n",
      "cluster 2 Family Majority: Hylidae Genus Majority: Dendropsophus Species Majority: Ameeregatrivittata\n",
      "cluster 3 Family Majority: Leptodactylidae Genus Majority: Hypsiboas Species Majority: HylaMinuta\n",
      "itr 27\n",
      "cluster 0 Family Majority: Leptodactylidae Genus Majority: Hypsiboas Species Majority: HylaMinuta\n",
      "cluster 1 Family Majority: Leptodactylidae Genus Majority: Hypsiboas Species Majority: HylaMinuta\n",
      "cluster 2 Family Majority: Hylidae Genus Majority: Dendropsophus Species Majority: Ameeregatrivittata\n",
      "cluster 3 Family Majority: Hylidae Genus Majority: Dendropsophus Species Majority: Ameeregatrivittata\n",
      "itr 28\n",
      "cluster 0 Family Majority: Hylidae Genus Majority: Dendropsophus Species Majority: Ameeregatrivittata\n",
      "cluster 1 Family Majority: Dendrobatidae Genus Majority: Ameerega Species Majority: AdenomeraHylaedactylus\n",
      "cluster 2 Family Majority: Leptodactylidae Genus Majority: Hypsiboas Species Majority: HylaMinuta\n",
      "cluster 3 Family Majority: Hylidae Genus Majority: Dendropsophus Species Majority: Ameeregatrivittata\n",
      "itr 29\n",
      "cluster 0 Family Majority: Hylidae Genus Majority: Dendropsophus Species Majority: Ameeregatrivittata\n",
      "cluster 1 Family Majority: Dendrobatidae Genus Majority: Ameerega Species Majority: AdenomeraHylaedactylus\n",
      "cluster 2 Family Majority: Hylidae Genus Majority: Dendropsophus Species Majority: Ameeregatrivittata\n",
      "cluster 3 Family Majority: Leptodactylidae Genus Majority: Hypsiboas Species Majority: HylaMinuta\n",
      "itr 30\n",
      "cluster 0 Family Majority: Hylidae Genus Majority: Dendropsophus Species Majority: Ameeregatrivittata\n",
      "cluster 1 Family Majority: Leptodactylidae Genus Majority: Hypsiboas Species Majority: HylaMinuta\n",
      "cluster 2 Family Majority: Hylidae Genus Majority: Dendropsophus Species Majority: Ameeregatrivittata\n",
      "cluster 3 Family Majority: Leptodactylidae Genus Majority: Hypsiboas Species Majority: HylaMinuta\n",
      "itr 31\n",
      "cluster 0 Family Majority: Leptodactylidae Genus Majority: Hypsiboas Species Majority: HylaMinuta\n",
      "cluster 1 Family Majority: Hylidae Genus Majority: Dendropsophus Species Majority: Ameeregatrivittata\n",
      "cluster 2 Family Majority: Hylidae Genus Majority: Dendropsophus Species Majority: Ameeregatrivittata\n",
      "cluster 3 Family Majority: Dendrobatidae Genus Majority: Ameerega Species Majority: AdenomeraHylaedactylus\n",
      "itr 32\n",
      "cluster 0 Family Majority: Hylidae Genus Majority: Dendropsophus Species Majority: Ameeregatrivittata\n",
      "cluster 1 Family Majority: Leptodactylidae Genus Majority: Hypsiboas Species Majority: HylaMinuta\n",
      "cluster 2 Family Majority: Dendrobatidae Genus Majority: Ameerega Species Majority: AdenomeraHylaedactylus\n",
      "cluster 3 Family Majority: Hylidae Genus Majority: Dendropsophus Species Majority: Ameeregatrivittata\n",
      "itr 33\n",
      "cluster 0 Family Majority: Dendrobatidae Genus Majority: Ameerega Species Majority: AdenomeraHylaedactylus\n",
      "cluster 1 Family Majority: Hylidae Genus Majority: Dendropsophus Species Majority: Ameeregatrivittata\n",
      "cluster 2 Family Majority: Hylidae Genus Majority: Dendropsophus Species Majority: Ameeregatrivittata\n",
      "cluster 3 Family Majority: Leptodactylidae Genus Majority: Hypsiboas Species Majority: HylaMinuta\n",
      "itr 34\n",
      "cluster 0 Family Majority: Dendrobatidae Genus Majority: Ameerega Species Majority: AdenomeraHylaedactylus\n",
      "cluster 1 Family Majority: Hylidae Genus Majority: Dendropsophus Species Majority: Ameeregatrivittata\n",
      "cluster 2 Family Majority: Leptodactylidae Genus Majority: Hypsiboas Species Majority: HylaMinuta\n",
      "cluster 3 Family Majority: Hylidae Genus Majority: Dendropsophus Species Majority: Ameeregatrivittata\n",
      "itr 35\n",
      "cluster 0 Family Majority: Leptodactylidae Genus Majority: Hypsiboas Species Majority: HylaMinuta\n",
      "cluster 1 Family Majority: Dendrobatidae Genus Majority: Ameerega Species Majority: AdenomeraHylaedactylus\n",
      "cluster 2 Family Majority: Hylidae Genus Majority: Dendropsophus Species Majority: Ameeregatrivittata\n",
      "cluster 3 Family Majority: Hylidae Genus Majority: Dendropsophus Species Majority: Ameeregatrivittata\n",
      "itr 36\n",
      "cluster 0 Family Majority: Leptodactylidae Genus Majority: Hypsiboas Species Majority: HylaMinuta\n",
      "cluster 1 Family Majority: Hylidae Genus Majority: Dendropsophus Species Majority: Ameeregatrivittata\n",
      "cluster 2 Family Majority: Hylidae Genus Majority: Dendropsophus Species Majority: Ameeregatrivittata\n",
      "cluster 3 Family Majority: Dendrobatidae Genus Majority: Ameerega Species Majority: AdenomeraHylaedactylus\n",
      "itr 37\n",
      "cluster 0 Family Majority: Leptodactylidae Genus Majority: Hypsiboas Species Majority: HylaMinuta\n",
      "cluster 1 Family Majority: Hylidae Genus Majority: Dendropsophus Species Majority: Ameeregatrivittata\n",
      "cluster 2 Family Majority: Dendrobatidae Genus Majority: Ameerega Species Majority: AdenomeraHylaedactylus\n",
      "cluster 3 Family Majority: Hylidae Genus Majority: Dendropsophus Species Majority: Ameeregatrivittata\n",
      "itr 38\n",
      "cluster 0 Family Majority: Hylidae Genus Majority: Dendropsophus Species Majority: Ameeregatrivittata\n",
      "cluster 1 Family Majority: Leptodactylidae Genus Majority: Hypsiboas Species Majority: HylaMinuta\n",
      "cluster 2 Family Majority: Leptodactylidae Genus Majority: Hypsiboas Species Majority: HylaMinuta\n",
      "cluster 3 Family Majority: Hylidae Genus Majority: Dendropsophus Species Majority: Ameeregatrivittata\n",
      "itr 39\n",
      "cluster 0 Family Majority: Dendrobatidae Genus Majority: Ameerega Species Majority: AdenomeraHylaedactylus\n",
      "cluster 1 Family Majority: Hylidae Genus Majority: Dendropsophus Species Majority: Ameeregatrivittata\n",
      "cluster 2 Family Majority: Hylidae Genus Majority: Dendropsophus Species Majority: Ameeregatrivittata\n",
      "cluster 3 Family Majority: Leptodactylidae Genus Majority: Hypsiboas Species Majority: HylaMinuta\n",
      "itr 40\n",
      "cluster 0 Family Majority: Leptodactylidae Genus Majority: Hypsiboas Species Majority: HylaMinuta\n",
      "cluster 1 Family Majority: Leptodactylidae Genus Majority: Hypsiboas Species Majority: HylaMinuta\n",
      "cluster 2 Family Majority: Hylidae Genus Majority: Dendropsophus Species Majority: Ameeregatrivittata\n",
      "cluster 3 Family Majority: Hylidae Genus Majority: Dendropsophus Species Majority: Ameeregatrivittata\n",
      "itr 41\n",
      "cluster 0 Family Majority: Hylidae Genus Majority: Dendropsophus Species Majority: Ameeregatrivittata\n",
      "cluster 1 Family Majority: Hylidae Genus Majority: Dendropsophus Species Majority: Ameeregatrivittata\n",
      "cluster 2 Family Majority: Leptodactylidae Genus Majority: Hypsiboas Species Majority: HylaMinuta\n",
      "cluster 3 Family Majority: Dendrobatidae Genus Majority: Ameerega Species Majority: AdenomeraHylaedactylus\n",
      "itr 42\n",
      "cluster 0 Family Majority: Hylidae Genus Majority: Dendropsophus Species Majority: Ameeregatrivittata\n",
      "cluster 1 Family Majority: Dendrobatidae Genus Majority: Ameerega Species Majority: AdenomeraHylaedactylus\n",
      "cluster 2 Family Majority: Leptodactylidae Genus Majority: Hypsiboas Species Majority: HylaMinuta\n",
      "cluster 3 Family Majority: Hylidae Genus Majority: Dendropsophus Species Majority: Ameeregatrivittata\n",
      "itr 43\n",
      "cluster 0 Family Majority: Hylidae Genus Majority: Dendropsophus Species Majority: Ameeregatrivittata\n",
      "cluster 1 Family Majority: Leptodactylidae Genus Majority: Hypsiboas Species Majority: HylaMinuta\n",
      "cluster 2 Family Majority: Dendrobatidae Genus Majority: Ameerega Species Majority: AdenomeraHylaedactylus\n",
      "cluster 3 Family Majority: Hylidae Genus Majority: Dendropsophus Species Majority: Ameeregatrivittata\n",
      "itr 44\n",
      "cluster 0 Family Majority: Leptodactylidae Genus Majority: Hypsiboas Species Majority: HylaMinuta\n",
      "cluster 1 Family Majority: Leptodactylidae Genus Majority: Hypsiboas Species Majority: HylaMinuta\n",
      "cluster 2 Family Majority: Hylidae Genus Majority: Dendropsophus Species Majority: Ameeregatrivittata\n",
      "cluster 3 Family Majority: Hylidae Genus Majority: Dendropsophus Species Majority: Ameeregatrivittata\n",
      "itr 45\n",
      "cluster 0 Family Majority: Leptodactylidae Genus Majority: Hypsiboas Species Majority: HylaMinuta\n",
      "cluster 1 Family Majority: Hylidae Genus Majority: Dendropsophus Species Majority: Ameeregatrivittata\n",
      "cluster 2 Family Majority: Leptodactylidae Genus Majority: Hypsiboas Species Majority: HylaMinuta\n",
      "cluster 3 Family Majority: Hylidae Genus Majority: Dendropsophus Species Majority: Ameeregatrivittata\n",
      "itr 46\n",
      "cluster 0 Family Majority: Dendrobatidae Genus Majority: Ameerega Species Majority: AdenomeraHylaedactylus\n",
      "cluster 1 Family Majority: Leptodactylidae Genus Majority: Hypsiboas Species Majority: HylaMinuta\n",
      "cluster 2 Family Majority: Hylidae Genus Majority: Dendropsophus Species Majority: Ameeregatrivittata\n",
      "cluster 3 Family Majority: Hylidae Genus Majority: Dendropsophus Species Majority: Ameeregatrivittata\n",
      "itr 47\n",
      "cluster 0 Family Majority: Leptodactylidae Genus Majority: Hypsiboas Species Majority: HylaMinuta\n",
      "cluster 1 Family Majority: Leptodactylidae Genus Majority: Hypsiboas Species Majority: HylaMinuta\n",
      "cluster 2 Family Majority: Hylidae Genus Majority: Dendropsophus Species Majority: Ameeregatrivittata\n",
      "cluster 3 Family Majority: Leptodactylidae Genus Majority: Hypsiboas Species Majority: HylaMinuta\n",
      "cluster 4 Family Majority: Leptodactylidae Genus Majority: Hypsiboas Species Majority: HylaMinuta\n",
      "cluster 5 Family Majority: Hylidae Genus Majority: Dendropsophus Species Majority: Ameeregatrivittata\n",
      "itr 48\n",
      "cluster 0 Family Majority: Hylidae Genus Majority: Dendropsophus Species Majority: Ameeregatrivittata\n",
      "cluster 1 Family Majority: Leptodactylidae Genus Majority: Hypsiboas Species Majority: HylaMinuta\n",
      "cluster 2 Family Majority: Hylidae Genus Majority: Dendropsophus Species Majority: Ameeregatrivittata\n",
      "cluster 3 Family Majority: Leptodactylidae Genus Majority: Hypsiboas Species Majority: HylaMinuta\n",
      "itr 49\n",
      "cluster 0 Family Majority: Hylidae Genus Majority: Dendropsophus Species Majority: Ameeregatrivittata\n",
      "cluster 1 Family Majority: Dendrobatidae Genus Majority: Ameerega Species Majority: AdenomeraHylaedactylus\n",
      "cluster 2 Family Majority: Hylidae Genus Majority: Dendropsophus Species Majority: Ameeregatrivittata\n",
      "cluster 3 Family Majority: Leptodactylidae Genus Majority: Hypsiboas Species Majority: HylaMinuta\n"
     ]
    }
   ],
   "source": [
    "monte_carlo_cluster_arr = []\n",
    "from sklearn.preprocessing import LabelEncoder\n",
    "df['Family'] = pd.Categorical(df['Family'])\n",
    "df['Genus'] = pd.Categorical(df['Genus'])\n",
    "df['Species'] = pd.Categorical(df['Species'])\n",
    "true_labels_f = df['Family'].cat.codes\n",
    "true_labels_g = df['Genus'].cat.codes\n",
    "true_labels_s = df['Species'].cat.codes\n",
    "\n",
    "def calculate_majority_label(l, j, cur_label, c, pos):\n",
    "    idx = np.where(l == j)[0]\n",
    "    cluster_labels = true_labels_f[idx]\n",
    "    major = df[cur_label].cat.categories[np.bincount(cluster_labels).argmax()]\n",
    "    c[j][pos] = major\n",
    "\n",
    "\n",
    "for i in range(50):\n",
    "    clusters = [[\"\" for x in range(3)] for y in range(k_arr[i])]\n",
    "    kmeans = monte_carlo_arr[i]\n",
    "    print(\"itr \" + str(i))\n",
    "    labels = kmeans.labels_\n",
    "\n",
    "    for j in range(k_arr[i]):\n",
    "        calculate_majority_label(labels, j, 'Family', clusters, 0)\n",
    "        calculate_majority_label(labels, j, 'Genus', clusters, 1)\n",
    "        calculate_majority_label(labels, j, 'Species', clusters, 2)\n",
    "        print(\"cluster \" + str(j) + \" Family Majority: \" + clusters[j][0] + \" Genus Majority: \" + clusters[j][1] + \" Species Majority: \" + clusters[j][2])\n",
    "    monte_carlo_cluster_arr.append(clusters)\n",
    "\n"
   ]
  },
  {
   "cell_type": "markdown",
   "metadata": {},
   "source": [
    "### (c) Calculate the average Hamming distance, Hamming score, and Hamming loss"
   ]
  },
  {
   "cell_type": "code",
   "execution_count": 89,
   "metadata": {},
   "outputs": [
    {
     "name": "stdout",
     "output_type": "stream",
     "text": [
      "Avg Hamming Distance: 0.8611181973654526\n",
      "Avg Hamming Score: 0.13888180263454752\n",
      "Avg Hamming Loss: 0.8611181973654526\n"
     ]
    }
   ],
   "source": [
    "df['Family'] = pd.Categorical(df['Family'])\n",
    "df['Genus'] = pd.Categorical(df['Genus'])\n",
    "df['Species'] = pd.Categorical(df['Species'])\n",
    "true_labels = pd.concat([df['Family'], df['Genus'], df['Species']], axis=1)\n",
    "\n",
    "hamming_distances = []\n",
    "hamming_scores = []\n",
    "hamming_losses = []\n",
    "\n",
    "def calculate_hamming_measures(d, l, ml):\n",
    "    loss = d.sum().sum()/len(l)\n",
    "    score_ = 1 - loss\n",
    "    distance = (l != ml).sum(axis=1).mean()\n",
    "\n",
    "    hamming_distances.append(distance)\n",
    "    hamming_scores.append(score_)\n",
    "    hamming_losses.append(loss)\n",
    "\n",
    "\n",
    "for i in range (50):\n",
    "    majority_label_triplets = monte_carlo_cluster_arr[i]\n",
    "    labels = monte_carlo_arr[i].labels_\n",
    "    for j in range(k_arr[i]):\n",
    "        majority_label_triplet = majority_label_triplets[j]\n",
    "\n",
    "        idx = np.where(labels == j)[0]\n",
    "        c_labels = true_labels.iloc[idx]\n",
    "        diff =  c_labels != majority_label_triplet\n",
    "\n",
    "        calculate_hamming_measures(diff, c_labels, majority_label_triplet)\n",
    "\n",
    "print(\"Avg Hamming Distance:\", np.mean(hamming_distances))\n",
    "print(\"Avg Hamming Score:\", np.mean(hamming_scores))\n",
    "print(\"Avg Hamming Loss:\", np.mean(hamming_losses))\n"
   ]
  },
  {
   "cell_type": "markdown",
   "metadata": {},
   "source": [
    "## 3. ISLR 12.6.2"
   ]
  },
  {
   "cell_type": "markdown",
   "metadata": {},
   "source": [
    "Pls find hw7mlds pdf in the main directory for theory solution"
   ]
  }
 ],
 "metadata": {
  "kernelspec": {
   "display_name": "Python 3",
   "language": "python",
   "name": "python3"
  },
  "language_info": {
   "name": "python",
   "version": "3.10.2 (tags/v3.10.2:a58ebcc, Jan 17 2022, 14:12:15) [MSC v.1929 64 bit (AMD64)]"
  },
  "orig_nbformat": 4,
  "vscode": {
   "interpreter": {
    "hash": "3c20c2d94d2527936fe0f3a300eb11db30fed84423423838e2f93b74eb7aaebc"
   }
  }
 },
 "nbformat": 4,
 "nbformat_minor": 2
}
